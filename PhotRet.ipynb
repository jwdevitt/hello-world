{
 "cells": [
  {
   "cell_type": "markdown",
   "metadata": {},
   "source": [
    "![loci%20logo.PNG](attachment:loci%20logo.PNG)\n",
    "\n",
    "# Function: Photons Returned "
   ]
  },
  {
   "cell_type": "markdown",
   "metadata": {},
   "source": [
    "![flowchart.PNG](attachment:flowchart.PNG)"
   ]
  },
  {
   "cell_type": "code",
   "execution_count": 1,
   "metadata": {
    "scrolled": false
   },
   "outputs": [
    {
     "ename": "SyntaxError",
     "evalue": "invalid syntax (<ipython-input-1-ccaa665fe22d>, line 55)",
     "output_type": "error",
     "traceback": [
      "\u001b[1;36m  File \u001b[1;32m\"<ipython-input-1-ccaa665fe22d>\"\u001b[1;36m, line \u001b[1;32m55\u001b[0m\n\u001b[1;33m    major_xticks = np.arange(, limit/1000, step/100)\u001b[0m\n\u001b[1;37m                             ^\u001b[0m\n\u001b[1;31mSyntaxError\u001b[0m\u001b[1;31m:\u001b[0m invalid syntax\n"
     ]
    }
   ],
   "source": [
    "#Importing libraries\n",
    "\n",
    "import math\n",
    "import matplotlib.pyplot as plt\n",
    "import numpy as np\n",
    "from ipywidgets import interact, Layout, widgets\n",
    "import matplotlib.image as mpimg\n",
    "\n",
    "#setting constants\n",
    "#HV = 5000  #Human Visibility (m) number\n",
    "#EPP = 0.2   #Energy per pulse (mjoule) number\n",
    "#RAD = 25   #Receiver Aperture Diameter (mm) number\n",
    "NUMPT = 100 #number of points on graph\n",
    "\n",
    "\n",
    "\n",
    "def datafunc (HV, EPP, RAD, Range_Low, Range_High):\n",
    "\n",
    "    skip = False #makes the code skip if limit is not met   \n",
    "    \n",
    "    #input limits\n",
    "    if (EPP <= 0) : \n",
    "        skip = True\n",
    "    if (HV <= 0) : \n",
    "        skip = True\n",
    "    if (RAD <= 0) : \n",
    "        skip = True\n",
    "    \n",
    "    if skip == True :\n",
    "        print ('Invalid Inputs')\n",
    "        \n",
    "    else :    \n",
    "\n",
    "            #calculations\n",
    "            B55 = -(math.log(0.05))/HV #idk find out\n",
    "            B155 = B55*(1.55/0.55)**-(0.1428*1.55-0.0947) #idk find out\n",
    "            SS = (Range_High - Range_Low)/NUMPT\n",
    "            #print('start loop')\n",
    "            PRList = np.zeros(NUMPT)\n",
    "            IRList = np.zeros(NUMPT)\n",
    "            for cnt in range (0,NUMPT) : \n",
    "                IRTEMP = Range_Low + cnt*SS\n",
    "                OWT = math.exp(-B155*IRTEMP)  #One Way Transmission\n",
    "                TWT = OWT**2 #Two Way Transmission\n",
    "                PR = EPP*0.001*(0.1/64**2)*((0.001*RAD)/(IRTEMP)**2*(0.00000155/(300000000*6.64E-34)*TWT*0.6))   #number of photons received from a 10% reflective object\n",
    "                #print('Photons Returned = ', PR,'IRTEMP = ',IRTEMP, 'count = ',cnt)\n",
    "                PRList[cnt] = PR \n",
    "                IRList[cnt] = IRTEMP\n",
    "                cnt +=1\n",
    "               # print('now n=',cnt , NUMPT)\n",
    "\n",
    "            plt.style.use('classic')\n",
    "            fig = plt.figure(figsize=(12,8))\n",
    "            ax1 = fig.add_subplot(1, 1, 1)\n",
    "            ax1.plot(IRList, PRList,':r',linewidth=3)\n",
    "            plt.axis([Range_Low, Range_High,0,max(PRList)])\n",
    "            plt.title('Photons Returned')\n",
    "            plt.ylabel('# of Photons Returned')\n",
    "            plt.xlabel('Range - M')\n",
    "\n",
    "            #add tickmarks\n",
    "            major_xticks = np.arange(Range_Low, Range_High, (Range_High - Range_Low)/10)\n",
    "            minor_xticks = np.arange(Range_Low, Range_High, (Range_High - Range_Low)/50)\n",
    "            ax1.set_xticks(major_xticks)\n",
    "            ax1.set_xticks(minor_xticks, minor=True)\n",
    "            # And a corresponding grid\n",
    "            ax1.grid(which='minor', alpha=0.25)\n",
    "            ax1.grid(which='major', alpha=0.75)\n",
    "\n",
    "        #print('end of loop', PRList)\n",
    "\n",
    "   \n",
    "\n",
    "style1 = {'description_width': 'initial'} \n",
    "interact(datafunc,\n",
    "             HV = widgets.FloatText(value=5000,min = 0.001, step=500, description = 'Human Visibility(m)',style=style1),\n",
    "             EPP = widgets.FloatText(value=0.2, min = 0.001, step=0.05, description = 'Energy Per Pulse(mJ)',style=style1),\n",
    "             RAD = widgets.FloatText(value=25,min = 0.001, step=1, description = 'Receiver Aperture Diameter(m)',style=style1),\n",
    "             Range_Low = widgets.FloatSlider(value=30, min=10, max=1000, step=10,continuous_update = False),\n",
    "             Range_High = widgets.FloatSlider(value=100, min=10, max=1000, step=10, continuous_update = False),\n",
    "        )\n",
    "            \n",
    "\n",
    "#print('done')\n",
    "\n",
    "        \n"
   ]
  },
  {
   "cell_type": "markdown",
   "metadata": {},
   "source": [
    "# Code By Ryan Devitt"
   ]
  },
  {
   "cell_type": "markdown",
   "metadata": {},
   "source": [
    "### Figure credit: Paul McManamon, Field Guide to Lidar, SPIE Press, p. 1 (2015) [doi: 10.1117/3.2186106]."
   ]
  }
 ],
 "metadata": {
  "kernelspec": {
   "display_name": "Python 3",
   "language": "python",
   "name": "python3"
  },
  "language_info": {
   "codemirror_mode": {
    "name": "ipython",
    "version": 3
   },
   "file_extension": ".py",
   "mimetype": "text/x-python",
   "name": "python",
   "nbconvert_exporter": "python",
   "pygments_lexer": "ipython3",
   "version": "3.8.8"
  }
 },
 "nbformat": 4,
 "nbformat_minor": 2
}
